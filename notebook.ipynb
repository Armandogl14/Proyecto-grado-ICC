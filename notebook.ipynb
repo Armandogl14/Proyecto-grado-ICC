{
 "cells": [
  {
   "cell_type": "markdown",
   "metadata": {},
   "source": [
    "## Cargar datos"
   ]
  },
  {
   "cell_type": "code",
   "execution_count": null,
   "metadata": {},
   "outputs": [],
   "source": [
    "import pandas as pd\n",
    "\n",
    "# Cargar el dataset\n",
    "df = pd.read_csv(\"contratos_leyes.csv\")\n",
    "\n",
    "# Ver primeros datos\n",
    "print(df.head())\n"
   ]
  },
  {
   "cell_type": "markdown",
   "metadata": {},
   "source": [
    "## Tokenizacion de datos"
   ]
  },
  {
   "cell_type": "code",
   "execution_count": null,
   "metadata": {},
   "outputs": [],
   "source": [
    "from transformers import AutoTokenizer\n",
    "\n",
    "# Cargar el tokenizador de Llama\n",
    "modelo_llama = \"meta-llama/Llama-2-7b-chat-hf\"\n",
    "tokenizer = AutoTokenizer.from_pretrained(modelo_llama)\n",
    "\n",
    "# Crear ejemplos de entrenamiento\n",
    "df[\"texto_modelo\"] = df.apply(lambda row: f\"Instrucción: Clasifica el siguiente contrato según si cumple con la ley dominicana.\\nContrato: {row['texto']}\\nRespuesta: {row['cumple_ley']}. {row['explicacion']}\", axis=1)\n",
    "\n",
    "# Tokenizar los textos\n",
    "train_encodings = tokenizer(list(df[\"texto_modelo\"]), truncation=True, padding=\"max_length\", max_length=512, return_tensors=\"pt\")\n",
    "\n",
    "# Verificar un ejemplo tokenizado\n",
    "print(tokenizer.decode(train_encodings[\"input_ids\"][0]))\n"
   ]
  },
  {
   "cell_type": "markdown",
   "metadata": {},
   "source": [
    "## Entrenamiento "
   ]
  },
  {
   "cell_type": "code",
   "execution_count": null,
   "metadata": {},
   "outputs": [],
   "source": [
    "from transformers import AutoModelForCausalLM, TrainingArguments, Trainer\n",
    "import torch\n",
    "\n",
    "# Cargar modelo de Llama\n",
    "model = AutoModelForCausalLM.from_pretrained(modelo_llama, torch_dtype=torch.float16, device_map=\"auto\")\n",
    "\n",
    "# Convertir a dataset de entrenamiento\n",
    "train_dataset = {\"input_ids\": train_encodings[\"input_ids\"], \"labels\": train_encodings[\"input_ids\"]}\n",
    "\n",
    "# Configuración del entrenamiento\n",
    "training_args = TrainingArguments(\n",
    "    output_dir=\"./resultados_llama\",\n",
    "    per_device_train_batch_size=2,\n",
    "    per_device_eval_batch_size=2,\n",
    "    num_train_epochs=3,\n",
    "    save_strategy=\"epoch\"\n",
    ")\n",
    "\n",
    "# Definir trainer\n",
    "trainer = Trainer(\n",
    "    model=model,\n",
    "    args=training_args,\n",
    "    train_dataset=train_dataset\n",
    ")\n",
    "\n",
    "# Iniciar entrenamiento\n",
    "trainer.train()\n"
   ]
  },
  {
   "cell_type": "markdown",
   "metadata": {},
   "source": [
    "Testing"
   ]
  },
  {
   "cell_type": "code",
   "execution_count": null,
   "metadata": {},
   "outputs": [],
   "source": [
    "def predecir_contrato(texto):\n",
    "    \"\"\"Clasifica un contrato con el modelo ajustado.\"\"\"\n",
    "    prompt = f\"Instrucción: Clasifica el siguiente contrato según si cumple con la ley dominicana.\\nContrato: {texto}\\nRespuesta:\"\n",
    "    inputs = tokenizer(prompt, return_tensors=\"pt\", truncation=True, padding=\"max_length\", max_length=512).to(\"cuda\")\n",
    "    \n",
    "    with torch.no_grad():\n",
    "        outputs = model.generate(**inputs, max_length=200)\n",
    "    \n",
    "    return tokenizer.decode(outputs[0], skip_special_tokens=True)\n",
    "\n",
    "# Prueba con un contrato nuevo\n",
    "nuevo_contrato = \"El vendedor no entregará los documentos del vehículo hasta después de un año.\"\n",
    "print(\"Evaluación del contrato:\", predecir_contrato(nuevo_contrato))\n"
   ]
  }
 ],
 "metadata": {
  "language_info": {
   "name": "python"
  }
 },
 "nbformat": 4,
 "nbformat_minor": 2
}
