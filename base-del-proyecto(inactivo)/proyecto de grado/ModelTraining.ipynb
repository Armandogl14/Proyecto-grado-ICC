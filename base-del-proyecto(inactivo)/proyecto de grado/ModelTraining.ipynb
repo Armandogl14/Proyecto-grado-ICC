{
 "cells": [
  {
   "cell_type": "code",
   "execution_count": null,
   "metadata": {},
   "outputs": [],
   "source": [
    "!pip install torch transformers accelerate bitsandbytes datasets jsonlines\n"
   ]
  },
  {
   "cell_type": "code",
   "execution_count": 1,
   "metadata": {},
   "outputs": [
    {
     "ename": "ModuleNotFoundError",
     "evalue": "No module named 'transformers'",
     "output_type": "error",
     "traceback": [
      "\u001b[1;31m---------------------------------------------------------------------------\u001b[0m",
      "\u001b[1;31mModuleNotFoundError\u001b[0m                       Traceback (most recent call last)",
      "Cell \u001b[1;32mIn[1], line 1\u001b[0m\n\u001b[1;32m----> 1\u001b[0m \u001b[38;5;28;01mfrom\u001b[39;00m \u001b[38;5;21;01mtransformers\u001b[39;00m \u001b[38;5;28;01mimport\u001b[39;00m AutoModelForCausalLM, AutoTokenizer\n\u001b[0;32m      3\u001b[0m \u001b[38;5;66;03m# 📌 Nombre del modelo en Hugging Face\u001b[39;00m\n\u001b[0;32m      4\u001b[0m model_name \u001b[38;5;241m=\u001b[39m \u001b[38;5;124m\"\u001b[39m\u001b[38;5;124mmeta-llama/Meta-Llama-3-8B\u001b[39m\u001b[38;5;124m\"\u001b[39m\n",
      "\u001b[1;31mModuleNotFoundError\u001b[0m: No module named 'transformers'"
     ]
    }
   ],
   "source": [
    "from transformers import AutoModelForCausalLM, AutoTokenizer\n",
    "\n",
    "# 📌 Nombre del modelo en Hugging Face\n",
    "model_name = \"meta-llama/Meta-Llama-3-8B\"\n",
    "\n",
    "# 🔄 Cargar el tokenizador y modelo en GPU con `bitsandbytes` (para menor consumo de memoria)\n",
    "tokenizer = AutoTokenizer.from_pretrained(model_name)\n",
    "model = AutoModelForCausalLM.from_pretrained(\n",
    "    model_name, \n",
    "    device_map=\"auto\",  # Mapea el modelo a la GPU disponible\n",
    "    torch_dtype=\"auto\"  # Usa la mejor precisión posible\n",
    ")\n",
    "\n",
    "print(\"✅ Llama 3.1 8B cargado correctamente.\")\n"
   ]
  },
  {
   "cell_type": "code",
   "execution_count": null,
   "metadata": {},
   "outputs": [],
   "source": [
    "from datasets import load_dataset\n",
    "\n",
    "# 📂 Cargar el dataset JSONL\n",
    "dataset = load_dataset(\"json\", data_files=\"contratos_dataset.jsonl\", split=\"train\")\n",
    "\n",
    "# 🔄 Tokenizar los datos\n",
    "def tokenize_function(example):\n",
    "    return tokenizer(example[\"prompt\"], text_target=example[\"response\"], padding=\"max_length\", truncation=True)\n",
    "\n",
    "# 🏷 Aplicar tokenización\n",
    "dataset = dataset.map(tokenize_function, batched=True)\n"
   ]
  },
  {
   "cell_type": "code",
   "execution_count": null,
   "metadata": {},
   "outputs": [],
   "source": [
    "from transformers import TrainingArguments, Trainer\n",
    "\n",
    "# 📂 Configurar la carpeta donde se guardarán los checkpoints\n",
    "training_args = TrainingArguments(\n",
    "    output_dir=\"./llama3_contratos\",\n",
    "    per_device_train_batch_size=2,  # Ajusta según la VRAM de tu GPU\n",
    "    gradient_accumulation_steps=4,\n",
    "    num_train_epochs=3,\n",
    "    logging_dir=\"./logs\",\n",
    "    save_total_limit=2,\n",
    "    fp16=True,  # Usa FP16 para optimizar memoria\n",
    "    report_to=\"none\"\n",
    ")\n",
    "\n",
    "# 📌 Configurar el trainer\n",
    "trainer = Trainer(\n",
    "    model=model,\n",
    "    args=training_args,\n",
    "    train_dataset=dataset\n",
    ")\n",
    "\n",
    "# 🚀 Iniciar entrenamiento\n",
    "trainer.train()\n"
   ]
  },
  {
   "cell_type": "code",
   "execution_count": null,
   "metadata": {},
   "outputs": [],
   "source": [
    "# 💾 Guardar el modelo ajustado\n",
    "model.save_pretrained(\"llama3_contratos_tuned\")\n",
    "tokenizer.save_pretrained(\"llama3_contratos_tuned\")\n",
    "\n",
    "print(\"✅ Modelo guardado en 'llama3_contratos_tuned'.\")\n"
   ]
  },
  {
   "cell_type": "code",
   "execution_count": null,
   "metadata": {},
   "outputs": [],
   "source": [
    "# 📂 Cargar el modelo ajustado\n",
    "model_path = \"llama3_contratos_tuned\"\n",
    "tokenizer = AutoTokenizer.from_pretrained(model_path)\n",
    "model = AutoModelForCausalLM.from_pretrained(model_path, device_map=\"auto\")\n",
    "\n",
    "# 🔍 Ejemplo de contrato nuevo\n",
    "prompt = \"Analiza este contrato y determina si cumple con la ley dominicana:\\nEl inquilino renuncia a cualquier reclamo legal.\"\n",
    "inputs = tokenizer(prompt, return_tensors=\"pt\").to(\"cuda\")\n",
    "\n",
    "# 🚀 Generar respuesta\n",
    "outputs = model.generate(**inputs, max_length=200)\n",
    "print(tokenizer.decode(outputs[0], skip_special_tokens=True))\n"
   ]
  }
 ],
 "metadata": {
  "kernelspec": {
   "display_name": "base",
   "language": "python",
   "name": "python3"
  },
  "language_info": {
   "codemirror_mode": {
    "name": "ipython",
    "version": 3
   },
   "file_extension": ".py",
   "mimetype": "text/x-python",
   "name": "python",
   "nbconvert_exporter": "python",
   "pygments_lexer": "ipython3",
   "version": "3.12.7"
  }
 },
 "nbformat": 4,
 "nbformat_minor": 2
}
